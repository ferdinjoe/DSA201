{
 "cells": [
  {
   "cell_type": "code",
   "execution_count": 1,
   "metadata": {},
   "outputs": [],
   "source": [
    "import xml.etree.ElementTree as ET"
   ]
  },
  {
   "cell_type": "code",
   "execution_count": 9,
   "metadata": {},
   "outputs": [],
   "source": [
    "tree = ET.parse('sample.xml')\n",
    "root = tree.getroot()"
   ]
  },
  {
   "cell_type": "code",
   "execution_count": 14,
   "metadata": {},
   "outputs": [
    {
     "name": "stdout",
     "output_type": "stream",
     "text": [
      "<xml.etree.ElementTree.ElementTree object at 0x000002CF964A21C8>\n"
     ]
    }
   ],
   "source": [
    "print(tree)"
   ]
  },
  {
   "cell_type": "code",
   "execution_count": 15,
   "metadata": {},
   "outputs": [
    {
     "name": "stdout",
     "output_type": "stream",
     "text": [
      "<Element 'catalog' at 0x000002CF964A4AE8>\n"
     ]
    }
   ],
   "source": [
    "print(root)"
   ]
  },
  {
   "cell_type": "code",
   "execution_count": 22,
   "metadata": {},
   "outputs": [
    {
     "name": "stdout",
     "output_type": "stream",
     "text": [
      "<built-in method getchildren of xml.etree.ElementTree.Element object at 0x000002CF964A4AE8>\n"
     ]
    }
   ],
   "source": [
    "print(root.getchildren)"
   ]
  },
  {
   "cell_type": "code",
   "execution_count": 23,
   "metadata": {},
   "outputs": [
    {
     "name": "stdout",
     "output_type": "stream",
     "text": [
      "\n",
      "   \n"
     ]
    }
   ],
   "source": [
    "print(root.text)"
   ]
  },
  {
   "cell_type": "code",
   "execution_count": 27,
   "metadata": {},
   "outputs": [
    {
     "name": "stdout",
     "output_type": "stream",
     "text": [
      "<Element 'book' at 0x000002CF96353778>\n",
      "<Element 'book' at 0x000002CF96457EA8>\n",
      "<Element 'book' at 0x000002CF964579F8>\n",
      "<Element 'book' at 0x000002CF96457778>\n",
      "<Element 'book' at 0x000002CF9645D048>\n",
      "<Element 'book' at 0x000002CF964AC908>\n",
      "<Element 'book' at 0x000002CF964ACBD8>\n",
      "<Element 'book' at 0x000002CF964ACE08>\n",
      "<Element 'book' at 0x000002CF964B1098>\n",
      "<Element 'book' at 0x000002CF964B1318>\n",
      "<Element 'book' at 0x000002CF964B1548>\n",
      "<Element 'book' at 0x000002CF964B1818>\n"
     ]
    }
   ],
   "source": [
    "for item in tree.iterfind('book'):\n",
    "    print(item)"
   ]
  },
  {
   "cell_type": "code",
   "execution_count": 28,
   "metadata": {},
   "outputs": [
    {
     "name": "stdout",
     "output_type": "stream",
     "text": [
      "Gambardella, Matthew\n",
      "Ralls, Kim\n",
      "Corets, Eva\n",
      "Corets, Eva\n",
      "Corets, Eva\n",
      "Randall, Cynthia\n",
      "Thurman, Paula\n",
      "Knorr, Stefan\n",
      "Kress, Peter\n",
      "O'Brien, Tim\n",
      "O'Brien, Tim\n",
      "Galos, Mike\n"
     ]
    }
   ],
   "source": [
    "for item in tree.iterfind('book'):\n",
    "    print(item.findtext('author'))\n"
   ]
  },
  {
   "cell_type": "code",
   "execution_count": 29,
   "metadata": {},
   "outputs": [
    {
     "name": "stdout",
     "output_type": "stream",
     "text": [
      "XML Developer's Guide\n",
      "Midnight Rain\n",
      "Maeve Ascendant\n",
      "Oberon's Legacy\n",
      "The Sundered Grail\n",
      "Lover Birds\n",
      "Splish Splash\n",
      "Creepy Crawlies\n",
      "Paradox Lost\n",
      "Microsoft .NET: The Programming Bible\n",
      "MSXML3: A Comprehensive Guide\n",
      "Visual Studio 7: A Comprehensive Guide\n"
     ]
    }
   ],
   "source": [
    "for item in tree.iterfind('book'):\n",
    "    print(item.findtext('title'))"
   ]
  },
  {
   "cell_type": "code",
   "execution_count": 33,
   "metadata": {},
   "outputs": [
    {
     "name": "stdout",
     "output_type": "stream",
     "text": [
      "$44.95\n",
      "$5.95\n",
      "$5.95\n",
      "$5.95\n",
      "$5.95\n",
      "$4.95\n",
      "$4.95\n",
      "$4.95\n",
      "$6.95\n",
      "$36.95\n",
      "$36.95\n",
      "$49.95\n"
     ]
    }
   ],
   "source": [
    "for item in tree.iterfind('book'):\n",
    "    print('$'+item.findtext('price'))"
   ]
  },
  {
   "cell_type": "code",
   "execution_count": 34,
   "metadata": {},
   "outputs": [],
   "source": [
    "#initialize variables\n",
    "author = []\n",
    "title = []\n",
    "price = []"
   ]
  },
  {
   "cell_type": "code",
   "execution_count": 36,
   "metadata": {},
   "outputs": [],
   "source": [
    "#Store the values of xml in the variables\n",
    "for item in tree.iterfind('book'):\n",
    "    author.append(item.findtext('author'))\n",
    "    title.append(item.findtext('title'))\n",
    "    price.append(item.findtext('price'))"
   ]
  },
  {
   "cell_type": "code",
   "execution_count": 37,
   "metadata": {},
   "outputs": [
    {
     "name": "stdout",
     "output_type": "stream",
     "text": [
      "['Gambardella, Matthew', 'Ralls, Kim', 'Corets, Eva', 'Corets, Eva', 'Corets, Eva', 'Randall, Cynthia', 'Thurman, Paula', 'Knorr, Stefan', 'Kress, Peter', \"O'Brien, Tim\", \"O'Brien, Tim\", 'Galos, Mike']\n"
     ]
    }
   ],
   "source": [
    "print(author)"
   ]
  },
  {
   "cell_type": "code",
   "execution_count": 38,
   "metadata": {},
   "outputs": [
    {
     "name": "stdout",
     "output_type": "stream",
     "text": [
      "[\"XML Developer's Guide\", 'Midnight Rain', 'Maeve Ascendant', \"Oberon's Legacy\", 'The Sundered Grail', 'Lover Birds', 'Splish Splash', 'Creepy Crawlies', 'Paradox Lost', 'Microsoft .NET: The Programming Bible', 'MSXML3: A Comprehensive Guide', 'Visual Studio 7: A Comprehensive Guide']\n"
     ]
    }
   ],
   "source": [
    "print(title)"
   ]
  },
  {
   "cell_type": "code",
   "execution_count": 39,
   "metadata": {},
   "outputs": [
    {
     "name": "stdout",
     "output_type": "stream",
     "text": [
      "['44.95', '5.95', '5.95', '5.95', '5.95', '4.95', '4.95', '4.95', '6.95', '36.95', '36.95', '49.95']\n"
     ]
    }
   ],
   "source": [
    "print(price)"
   ]
  },
  {
   "cell_type": "code",
   "execution_count": 40,
   "metadata": {},
   "outputs": [],
   "source": [
    "import pandas as pd "
   ]
  },
  {
   "cell_type": "code",
   "execution_count": 41,
   "metadata": {},
   "outputs": [],
   "source": [
    "df = pd.DataFrame({'title': title, 'author':author, 'price':price})"
   ]
  },
  {
   "cell_type": "code",
   "execution_count": 42,
   "metadata": {},
   "outputs": [
    {
     "name": "stdout",
     "output_type": "stream",
     "text": [
      "                                     title                author  price\n",
      "0                    XML Developer's Guide  Gambardella, Matthew  44.95\n",
      "1                            Midnight Rain            Ralls, Kim   5.95\n",
      "2                          Maeve Ascendant           Corets, Eva   5.95\n",
      "3                          Oberon's Legacy           Corets, Eva   5.95\n",
      "4                       The Sundered Grail           Corets, Eva   5.95\n",
      "5                              Lover Birds      Randall, Cynthia   4.95\n",
      "6                            Splish Splash        Thurman, Paula   4.95\n",
      "7                          Creepy Crawlies         Knorr, Stefan   4.95\n",
      "8                             Paradox Lost          Kress, Peter   6.95\n",
      "9    Microsoft .NET: The Programming Bible          O'Brien, Tim  36.95\n",
      "10           MSXML3: A Comprehensive Guide          O'Brien, Tim  36.95\n",
      "11  Visual Studio 7: A Comprehensive Guide           Galos, Mike  49.95\n"
     ]
    }
   ],
   "source": [
    "print(df)"
   ]
  },
  {
   "cell_type": "code",
   "execution_count": 43,
   "metadata": {},
   "outputs": [
    {
     "name": "stdout",
     "output_type": "stream",
     "text": [
      "Mean price:  17.86666666666667\n"
     ]
    }
   ],
   "source": [
    "df['price'] = df['price'].astype(float)\n",
    "print(\"Mean price: \", df['price'].mean())"
   ]
  },
  {
   "cell_type": "code",
   "execution_count": 2,
   "metadata": {},
   "outputs": [],
   "source": [
    "import urllib"
   ]
  },
  {
   "cell_type": "code",
   "execution_count": 12,
   "metadata": {},
   "outputs": [],
   "source": [
    "url='https://kvis.ac.th/sitemap.xml'"
   ]
  },
  {
   "cell_type": "code",
   "execution_count": 13,
   "metadata": {},
   "outputs": [],
   "source": [
    "opener = urllib.request.build_opener()\n",
    "tree = ET.parse(opener.open(url))"
   ]
  },
  {
   "cell_type": "code",
   "execution_count": 17,
   "metadata": {},
   "outputs": [
    {
     "name": "stdout",
     "output_type": "stream",
     "text": [
      "<xml.etree.ElementTree.ElementTree object at 0x00000278D8231EC8>\n"
     ]
    }
   ],
   "source": [
    "print(tree)"
   ]
  },
  {
   "cell_type": "code",
   "execution_count": 18,
   "metadata": {},
   "outputs": [
    {
     "name": "stdout",
     "output_type": "stream",
     "text": [
      "None\n"
     ]
    }
   ],
   "source": [
    "print(tree.find('url'))"
   ]
  },
  {
   "cell_type": "code",
   "execution_count": 19,
   "metadata": {},
   "outputs": [],
   "source": [
    "request=urllib.request.Request(url,None)"
   ]
  },
  {
   "cell_type": "code",
   "execution_count": 9,
   "metadata": {},
   "outputs": [],
   "source": [
    "#import requests\n",
    "import urllib.request\n",
    "from bs4 import BeautifulSoup\n",
    "#from urllib import urlopen\n",
    "import re\n",
    "\n",
    "webpage = urllib.request.urlopen('https://kvis.ac.th/sitemap.xml').read"
   ]
  },
  {
   "cell_type": "code",
   "execution_count": 20,
   "metadata": {},
   "outputs": [
    {
     "data": {
      "text/plain": [
       "<urllib.request.Request at 0x278d92328c8>"
      ]
     },
     "execution_count": 20,
     "metadata": {},
     "output_type": "execute_result"
    }
   ],
   "source": [
    "request"
   ]
  },
  {
   "cell_type": "code",
   "execution_count": 11,
   "metadata": {},
   "outputs": [
    {
     "name": "stdout",
     "output_type": "stream",
     "text": [
      "<bound method HTTPResponse.read of <http.client.HTTPResponse object at 0x00000278D8231988>>\n"
     ]
    }
   ],
   "source": [
    "print(webpage)"
   ]
  },
  {
   "cell_type": "code",
   "execution_count": null,
   "metadata": {},
   "outputs": [],
   "source": []
  }
 ],
 "metadata": {
  "kernelspec": {
   "display_name": "Python 3",
   "language": "python",
   "name": "python3"
  },
  "language_info": {
   "codemirror_mode": {
    "name": "ipython",
    "version": 3
   },
   "file_extension": ".py",
   "mimetype": "text/x-python",
   "name": "python",
   "nbconvert_exporter": "python",
   "pygments_lexer": "ipython3",
   "version": "3.7.7"
  }
 },
 "nbformat": 4,
 "nbformat_minor": 4
}
