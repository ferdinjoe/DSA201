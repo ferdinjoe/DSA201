{
 "cells": [
  {
   "cell_type": "markdown",
   "metadata": {},
   "source": [
    "Data Wrangling - Week 5\n",
    "Working with JSON"
   ]
  },
  {
   "cell_type": "code",
   "execution_count": 1,
   "metadata": {},
   "outputs": [],
   "source": [
    "#Import the libraties necessary\n",
    "import json\n",
    "import requests\n",
    "#If libraries are not available, use\n",
    "# pip install json\n",
    "# pip install requests"
   ]
  },
  {
   "cell_type": "code",
   "execution_count": 2,
   "metadata": {},
   "outputs": [],
   "source": [
    "#Classical requirements\n",
    "import pandas as pd\n",
    "import numpy as np"
   ]
  },
  {
   "cell_type": "code",
   "execution_count": 3,
   "metadata": {},
   "outputs": [],
   "source": [
    "person = '{\"name\": \"Bob\", \"languages\": [\"English\", \"French\"]}'\n",
    "person_dict = json.loads(person)"
   ]
  },
  {
   "cell_type": "code",
   "execution_count": 4,
   "metadata": {},
   "outputs": [
    {
     "name": "stdout",
     "output_type": "stream",
     "text": [
      "{'name': 'Bob', 'languages': ['English', 'French']}\n"
     ]
    }
   ],
   "source": [
    "# Output: {'name': 'Bob', 'languages': ['English', 'Fench']}\n",
    "print( person_dict)"
   ]
  },
  {
   "cell_type": "code",
   "execution_count": 7,
   "metadata": {},
   "outputs": [
    {
     "name": "stdout",
     "output_type": "stream",
     "text": [
      "['English', 'French']\n"
     ]
    }
   ],
   "source": [
    "# Output: ['English', 'French']\n",
    "print(person_dict['languages'])"
   ]
  },
  {
   "cell_type": "code",
   "execution_count": 8,
   "metadata": {},
   "outputs": [
    {
     "name": "stdout",
     "output_type": "stream",
     "text": [
      "{'people': [{'name': 'Scott', 'website': 'stackabuse.com', 'from': 'Nebraska'}, {'name': 'Larry', 'website': 'google.com', 'from': 'Michigan'}, {'name': 'Tim', 'website': 'apple.com', 'from': 'Alabama'}, {'name': 'Adam', 'website': 'google.com', 'from': 'Texas'}]}\n"
     ]
    }
   ],
   "source": [
    "with open('person.json') as f:\n",
    "  data = json.load(f)\n",
    "\n",
    "# Output: {'name': 'Bob', 'languages': ['English', 'French']}\n",
    "print(data)"
   ]
  },
  {
   "cell_type": "code",
   "execution_count": 9,
   "metadata": {},
   "outputs": [
    {
     "name": "stdout",
     "output_type": "stream",
     "text": [
      "{\"name\": \"Bob\", \"age\": 12, \"children\": null}\n"
     ]
    }
   ],
   "source": [
    "person_dict = {'name': 'Bob',\n",
    "'age': 12,\n",
    "'children': None\n",
    "}\n",
    "person_json = json.dumps(person_dict)\n",
    "\n",
    "# Output: {\"name\": \"Bob\", \"age\": 12, \"children\": null}\n",
    "print(person_json)"
   ]
  },
  {
   "cell_type": "code",
   "execution_count": 10,
   "metadata": {},
   "outputs": [],
   "source": [
    "person_dict = {\"name\": \"Bob\",\n",
    "\"languages\": [\"English\", \"French\"],\n",
    "\"married\": True,\n",
    "\"age\": 32\n",
    "}\n",
    "\n",
    "with open('person.json', 'w') as json_file:\n",
    "  json.dump(person_dict, json_file)"
   ]
  },
  {
   "cell_type": "code",
   "execution_count": 11,
   "metadata": {},
   "outputs": [
    {
     "name": "stdout",
     "output_type": "stream",
     "text": [
      "{'name': 'Bob', 'languages': ['English', 'French'], 'married': True, 'age': 32}\n"
     ]
    }
   ],
   "source": [
    "with open('person.json') as f:\n",
    "  data = json.load(f)\n",
    "\n",
    "print(data)"
   ]
  },
  {
   "cell_type": "code",
   "execution_count": 12,
   "metadata": {},
   "outputs": [],
   "source": [
    "dict1= {\"City\": \"NewYork\"}\n",
    "with open(\"person.json\", \"r+\") as fi:\n",
    "    data = json.load(fi)\n",
    "    data.update(dict1)\n",
    "    fi.seek(0)\n",
    "    json.dump(data, fi)"
   ]
  },
  {
   "cell_type": "code",
   "execution_count": 13,
   "metadata": {},
   "outputs": [
    {
     "name": "stdout",
     "output_type": "stream",
     "text": [
      "{'name': 'Bob', 'languages': ['English', 'French'], 'married': True, 'age': 32, 'City': 'NewYork'}\n"
     ]
    }
   ],
   "source": [
    "print(data)"
   ]
  },
  {
   "cell_type": "code",
   "execution_count": 14,
   "metadata": {},
   "outputs": [],
   "source": [
    "data = {}\n",
    "data['people'] = []\n",
    "data['people'].append({\n",
    "    'name': 'Scott',\n",
    "    'website': 'stackabuse.com',\n",
    "    'from': 'Nebraska'\n",
    "})\n",
    "data['people'].append({\n",
    "    'name': 'Larry',\n",
    "    'website': 'google.com',\n",
    "    'from': 'Michigan'\n",
    "})\n",
    "data['people'].append({\n",
    "    'name': 'Tim',\n",
    "    'website': 'apple.com',\n",
    "    'from': 'Alabama'\n",
    "})\n",
    "\n",
    "with open('person.json', 'w') as outfile:\n",
    "    json.dump(data, outfile)"
   ]
  },
  {
   "cell_type": "code",
   "execution_count": 15,
   "metadata": {},
   "outputs": [
    {
     "name": "stdout",
     "output_type": "stream",
     "text": [
      "{'people': [{'name': 'Scott', 'website': 'stackabuse.com', 'from': 'Nebraska'}, {'name': 'Larry', 'website': 'google.com', 'from': 'Michigan'}, {'name': 'Tim', 'website': 'apple.com', 'from': 'Alabama'}]}\n"
     ]
    }
   ],
   "source": [
    "print(data)"
   ]
  },
  {
   "cell_type": "code",
   "execution_count": 16,
   "metadata": {},
   "outputs": [
    {
     "name": "stdout",
     "output_type": "stream",
     "text": [
      "Name: Scott\n",
      "Website: stackabuse.com\n",
      "From: Nebraska\n",
      "\n",
      "Name: Larry\n",
      "Website: google.com\n",
      "From: Michigan\n",
      "\n",
      "Name: Tim\n",
      "Website: apple.com\n",
      "From: Alabama\n",
      "\n"
     ]
    }
   ],
   "source": [
    "with open('person.json') as json_file:\n",
    "    data = json.load(json_file)\n",
    "    for p in data['people']:\n",
    "        print('Name: ' + p['name'])\n",
    "        print('Website: ' + p['website'])\n",
    "        print('From: ' + p['from'])\n",
    "        print('')"
   ]
  },
  {
   "cell_type": "code",
   "execution_count": 17,
   "metadata": {},
   "outputs": [],
   "source": [
    "with open('person.json') as json_file:\n",
    "    data = json.load(json_file)\n",
    "    data['people'].append({\n",
    "    'name': 'Adam',\n",
    "    'website': 'google.com',\n",
    "    'from': 'Texas'\n",
    "    })\n",
    "\n",
    "with open('person.json', 'w') as outfile:\n",
    "    json.dump(data, outfile)"
   ]
  },
  {
   "cell_type": "code",
   "execution_count": 18,
   "metadata": {},
   "outputs": [
    {
     "name": "stdout",
     "output_type": "stream",
     "text": [
      "Name: Scott\n",
      "Website: stackabuse.com\n",
      "From: Nebraska\n",
      "\n",
      "Name: Larry\n",
      "Website: google.com\n",
      "From: Michigan\n",
      "\n",
      "Name: Tim\n",
      "Website: apple.com\n",
      "From: Alabama\n",
      "\n",
      "Name: Adam\n",
      "Website: google.com\n",
      "From: Texas\n",
      "\n"
     ]
    }
   ],
   "source": [
    "for p in data['people']:\n",
    "        print('Name: ' + p['name'])\n",
    "        print('Website: ' + p['website'])\n",
    "        print('From: ' + p['from'])\n",
    "        print('')"
   ]
  },
  {
   "cell_type": "code",
   "execution_count": 19,
   "metadata": {},
   "outputs": [
    {
     "data": {
      "text/html": [
       "<div>\n",
       "<style scoped>\n",
       "    .dataframe tbody tr th:only-of-type {\n",
       "        vertical-align: middle;\n",
       "    }\n",
       "\n",
       "    .dataframe tbody tr th {\n",
       "        vertical-align: top;\n",
       "    }\n",
       "\n",
       "    .dataframe thead th {\n",
       "        text-align: right;\n",
       "    }\n",
       "</style>\n",
       "<table border=\"1\" class=\"dataframe\">\n",
       "  <thead>\n",
       "    <tr style=\"text-align: right;\">\n",
       "      <th></th>\n",
       "      <th>people</th>\n",
       "    </tr>\n",
       "  </thead>\n",
       "  <tbody>\n",
       "    <tr>\n",
       "      <th>0</th>\n",
       "      <td>{'name': 'Scott', 'website': 'stackabuse.com',...</td>\n",
       "    </tr>\n",
       "    <tr>\n",
       "      <th>1</th>\n",
       "      <td>{'name': 'Larry', 'website': 'google.com', 'fr...</td>\n",
       "    </tr>\n",
       "    <tr>\n",
       "      <th>2</th>\n",
       "      <td>{'name': 'Tim', 'website': 'apple.com', 'from'...</td>\n",
       "    </tr>\n",
       "    <tr>\n",
       "      <th>3</th>\n",
       "      <td>{'name': 'Adam', 'website': 'google.com', 'fro...</td>\n",
       "    </tr>\n",
       "  </tbody>\n",
       "</table>\n",
       "</div>"
      ],
      "text/plain": [
       "                                              people\n",
       "0  {'name': 'Scott', 'website': 'stackabuse.com',...\n",
       "1  {'name': 'Larry', 'website': 'google.com', 'fr...\n",
       "2  {'name': 'Tim', 'website': 'apple.com', 'from'...\n",
       "3  {'name': 'Adam', 'website': 'google.com', 'fro..."
      ]
     },
     "execution_count": 19,
     "metadata": {},
     "output_type": "execute_result"
    }
   ],
   "source": [
    "pd.read_json(r'person.json')"
   ]
  },
  {
   "cell_type": "code",
   "execution_count": 20,
   "metadata": {},
   "outputs": [
    {
     "name": "stdout",
     "output_type": "stream",
     "text": [
      "{'UpdateDate': '09/08/2020 12:01', 'Source': 'https://covid19.th-stat.com/', 'DevBy': 'https://www.kidkarnmai.com/', 'SeverBy': 'https://smilehost.asia/', 'Data': [{'Date': '01/01/2020', 'NewConfirmed': 0, 'NewRecovered': 0, 'NewHospitalized': 0, 'NewDeaths': 0, 'Confirmed': 0, 'Recovered': 0, 'Hospitalized': 0, 'Deaths': 0}, {'Date': '01/02/2020', 'NewConfirmed': 0, 'NewRecovered': 0, 'NewHospitalized': 0, 'NewDeaths': 0, 'Confirmed': 0, 'Recovered': 0, 'Hospitalized': 0, 'Deaths': 0}, {'Date': '01/03/2020', 'NewConfirmed': 0, 'NewRecovered': 0, 'NewHospitalized': 0, 'NewDeaths': 0, 'Confirmed': 0, 'Recovered': 0, 'Hospitalized': 0, 'Deaths': 0}, {'Date': '01/04/2020', 'NewConfirmed': 0, 'NewRecovered': 0, 'NewHospitalized': 0, 'NewDeaths': 0, 'Confirmed': 0, 'Recovered': 0, 'Hospitalized': 0, 'Deaths': 0}, {'Date': '01/05/2020', 'NewConfirmed': 0, 'NewRecovered': 0, 'NewHospitalized': 0, 'NewDeaths': 0, 'Confirmed': 0, 'Recovered': 0, 'Hospitalized': 0, 'Deaths': 0}, {'Date': '01/06/2020', 'NewConfirmed': 0, 'NewRecovered': 0, 'NewHospitalized': 0, 'NewDeaths': 0, 'Confirmed': 0, 'Recovered': 0, 'Hospitalized': 0, 'Deaths': 0}, {'Date': '01/07/2020', 'NewConfirmed': 0, 'NewRecovered': 0, 'NewHospitalized': 0, 'NewDeaths': 0, 'Confirmed': 0, 'Recovered': 0, 'Hospitalized': 0, 'Deaths': 0}, {'Date': '01/08/2020', 'NewConfirmed': 0, 'NewRecovered': 0, 'NewHospitalized': 0, 'NewDeaths': 0, 'Confirmed': 0, 'Recovered': 0, 'Hospitalized': 0, 'Deaths': 0}, {'Date': '01/09/2020', 'NewConfirmed': 0, 'NewRecovered': 0, 'NewHospitalized': 0, 'NewDeaths': 0, 'Confirmed': 0, 'Recovered': 0, 'Hospitalized': 0, 'Deaths': 0}, {'Date': '01/10/2020', 'NewConfirmed': 0, 'NewRecovered': 0, 'NewHospitalized': 0, 'NewDeaths': 0, 'Confirmed': 0, 'Recovered': 0, 'Hospitalized': 0, 'Deaths': 0}, {'Date': '01/11/2020', 'NewConfirmed': 0, 'NewRecovered': 0, 'NewHospitalized': 0, 'NewDeaths': 0, 'Confirmed': 0, 'Recovered': 0, 'Hospitalized': 0, 'Deaths': 0}, {'Date': '01/12/2020', 'NewConfirmed': 1, 'NewRecovered': 0, 'NewHospitalized': 1, 'NewDeaths': 0, 'Confirmed': 1, 'Recovered': 0, 'Hospitalized': 1, 'Deaths': 0}, {'Date': '01/13/2020', 'NewConfirmed': 0, 'NewRecovered': 0, 'NewHospitalized': 0, 'NewDeaths': 0, 'Confirmed': 1, 'Recovered': 0, 'Hospitalized': 1, 'Deaths': 0}, {'Date': '01/14/2020', 'NewConfirmed': 0, 'NewRecovered': 0, 'NewHospitalized': 0, 'NewDeaths': 0, 'Confirmed': 1, 'Recovered': 0, 'Hospitalized': 1, 'Deaths': 0}, {'Date': '01/15/2020', 'NewConfirmed': 0, 'NewRecovered': 0, 'NewHospitalized': 0, 'NewDeaths': 0, 'Confirmed': 1, 'Recovered': 0, 'Hospitalized': 1, 'Deaths': 0}, {'Date': '01/16/2020', 'NewConfirmed': 0, 'NewRecovered': 0, 'NewHospitalized': 0, 'NewDeaths': 0, 'Confirmed': 1, 'Recovered': 0, 'Hospitalized': 1, 'Deaths': 0}, {'Date': '01/17/2020', 'NewConfirmed': 1, 'NewRecovered': 0, 'NewHospitalized': 1, 'NewDeaths': 0, 'Confirmed': 2, 'Recovered': 0, 'Hospitalized': 2, 'Deaths': 0}, {'Date': '01/18/2020', 'NewConfirmed': 0, 'NewRecovered': 1, 'NewHospitalized': -1, 'NewDeaths': 0, 'Confirmed': 2, 'Recovered': 1, 'Hospitalized': 1, 'Deaths': 0}, {'Date': '01/19/2020', 'NewConfirmed': 0, 'NewRecovered': 0, 'NewHospitalized': 0, 'NewDeaths': 0, 'Confirmed': 2, 'Recovered': 1, 'Hospitalized': 1, 'Deaths': 0}, {'Date': '01/20/2020', 'NewConfirmed': 0, 'NewRecovered': 0, 'NewHospitalized': 0, 'NewDeaths': 0, 'Confirmed': 2, 'Recovered': 1, 'Hospitalized': 1, 'Deaths': 0}, {'Date': '01/21/2020', 'NewConfirmed': 0, 'NewRecovered': 1, 'NewHospitalized': -1, 'NewDeaths': 0, 'Confirmed': 2, 'Recovered': 2, 'Hospitalized': 0, 'Deaths': 0}, {'Date': '01/22/2020', 'NewConfirmed': 2, 'NewRecovered': 0, 'NewHospitalized': 2, 'NewDeaths': 0, 'Confirmed': 4, 'Recovered': 2, 'Hospitalized': 2, 'Deaths': 0}, {'Date': '01/23/2020', 'NewConfirmed': 0, 'NewRecovered': 0, 'NewHospitalized': 0, 'NewDeaths': 0, 'Confirmed': 4, 'Recovered': 2, 'Hospitalized': 2, 'Deaths': 0}, {'Date': '01/24/2020', 'NewConfirmed': 1, 'NewRecovered': 1, 'NewHospitalized': 0, 'NewDeaths': 0, 'Confirmed': 5, 'Recovered': 3, 'Hospitalized': 2, 'Deaths': 0}, {'Date': '01/25/2020', 'NewConfirmed': 1, 'NewRecovered': 0, 'NewHospitalized': 1, 'NewDeaths': 0, 'Confirmed': 6, 'Recovered': 3, 'Hospitalized': 3, 'Deaths': 0}, {'Date': '01/26/2020', 'NewConfirmed': 2, 'NewRecovered': 3, 'NewHospitalized': -1, 'NewDeaths': 0, 'Confirmed': 8, 'Recovered': 6, 'Hospitalized': 2, 'Deaths': 0}, {'Date': '01/27/2020', 'NewConfirmed': 0, 'NewRecovered': 0, 'NewHospitalized': 0, 'NewDeaths': 0, 'Confirmed': 8, 'Recovered': 6, 'Hospitalized': 2, 'Deaths': 0}, {'Date': '01/28/2020', 'NewConfirmed': 6, 'NewRecovered': 0, 'NewHospitalized': 6, 'NewDeaths': 0, 'Confirmed': 14, 'Recovered': 6, 'Hospitalized': 8, 'Deaths': 0}, {'Date': '01/29/2020', 'NewConfirmed': 0, 'NewRecovered': 0, 'NewHospitalized': 0, 'NewDeaths': 0, 'Confirmed': 14, 'Recovered': 6, 'Hospitalized': 8, 'Deaths': 0}, {'Date': '01/30/2020', 'NewConfirmed': 0, 'NewRecovered': 1, 'NewHospitalized': -1, 'NewDeaths': 0, 'Confirmed': 14, 'Recovered': 7, 'Hospitalized': 7, 'Deaths': 0}, {'Date': '01/31/2020', 'NewConfirmed': 5, 'NewRecovered': 1, 'NewHospitalized': 4, 'NewDeaths': 0, 'Confirmed': 19, 'Recovered': 8, 'Hospitalized': 11, 'Deaths': 0}, {'Date': '02/01/2020', 'NewConfirmed': 0, 'NewRecovered': 0, 'NewHospitalized': 0, 'NewDeaths': 0, 'Confirmed': 19, 'Recovered': 8, 'Hospitalized': 11, 'Deaths': 0}, {'Date': '02/02/2020', 'NewConfirmed': 0, 'NewRecovered': 1, 'NewHospitalized': -1, 'NewDeaths': 0, 'Confirmed': 19, 'Recovered': 9, 'Hospitalized': 10, 'Deaths': 0}, {'Date': '02/03/2020', 'NewConfirmed': 0, 'NewRecovered': 0, 'NewHospitalized': 0, 'NewDeaths': 0, 'Confirmed': 19, 'Recovered': 9, 'Hospitalized': 10, 'Deaths': 0}, {'Date': '02/04/2020', 'NewConfirmed': 6, 'NewRecovered': 1, 'NewHospitalized': 5, 'NewDeaths': 0, 'Confirmed': 25, 'Recovered': 10, 'Hospitalized': 15, 'Deaths': 0}, {'Date': '02/05/2020', 'NewConfirmed': 0, 'NewRecovered': 0, 'NewHospitalized': 0, 'NewDeaths': 0, 'Confirmed': 25, 'Recovered': 10, 'Hospitalized': 15, 'Deaths': 0}, {'Date': '02/06/2020', 'NewConfirmed': 0, 'NewRecovered': 0, 'NewHospitalized': 0, 'NewDeaths': 0, 'Confirmed': 25, 'Recovered': 10, 'Hospitalized': 15, 'Deaths': 0}, {'Date': '02/07/2020', 'NewConfirmed': 0, 'NewRecovered': 0, 'NewHospitalized': 0, 'NewDeaths': 0, 'Confirmed': 25, 'Recovered': 10, 'Hospitalized': 15, 'Deaths': 0}, {'Date': '02/08/2020', 'NewConfirmed': 7, 'NewRecovered': 0, 'NewHospitalized': 7, 'NewDeaths': 0, 'Confirmed': 32, 'Recovered': 10, 'Hospitalized': 22, 'Deaths': 0}, {'Date': '02/09/2020', 'NewConfirmed': 0, 'NewRecovered': 1, 'NewHospitalized': -1, 'NewDeaths': 0, 'Confirmed': 32, 'Recovered': 11, 'Hospitalized': 21, 'Deaths': 0}, {'Date': '02/10/2020', 'NewConfirmed': 0, 'NewRecovered': 0, 'NewHospitalized': 0, 'NewDeaths': 0, 'Confirmed': 32, 'Recovered': 11, 'Hospitalized': 21, 'Deaths': 0}, {'Date': '02/11/2020', 'NewConfirmed': 1, 'NewRecovered': 0, 'NewHospitalized': 1, 'NewDeaths': 0, 'Confirmed': 33, 'Recovered': 11, 'Hospitalized': 22, 'Deaths': 0}, {'Date': '02/12/2020', 'NewConfirmed': 0, 'NewRecovered': 0, 'NewHospitalized': 0, 'NewDeaths': 0, 'Confirmed': 33, 'Recovered': 11, 'Hospitalized': 22, 'Deaths': 0}, {'Date': '02/13/2020', 'NewConfirmed': 0, 'NewRecovered': 0, 'NewHospitalized': 0, 'NewDeaths': 0, 'Confirmed': 33, 'Recovered': 11, 'Hospitalized': 22, 'Deaths': 0}, {'Date': '02/14/2020', 'NewConfirmed': 0, 'NewRecovered': 0, 'NewHospitalized': 0, 'NewDeaths': 0, 'Confirmed': 33, 'Recovered': 11, 'Hospitalized': 22, 'Deaths': 0}, {'Date': '02/15/2020', 'NewConfirmed': 1, 'NewRecovered': 2, 'NewHospitalized': -1, 'NewDeaths': 0, 'Confirmed': 34, 'Recovered': 13, 'Hospitalized': 21, 'Deaths': 0}, {'Date': '02/16/2020', 'NewConfirmed': 0, 'NewRecovered': 2, 'NewHospitalized': -2, 'NewDeaths': 0, 'Confirmed': 34, 'Recovered': 15, 'Hospitalized': 19, 'Deaths': 0}, {'Date': '02/17/2020', 'NewConfirmed': 1, 'NewRecovered': 0, 'NewHospitalized': 1, 'NewDeaths': 0, 'Confirmed': 35, 'Recovered': 15, 'Hospitalized': 20, 'Deaths': 0}, {'Date': '02/18/2020', 'NewConfirmed': 0, 'NewRecovered': 0, 'NewHospitalized': 0, 'NewDeaths': 0, 'Confirmed': 35, 'Recovered': 15, 'Hospitalized': 20, 'Deaths': 0}, {'Date': '02/19/2020', 'NewConfirmed': 0, 'NewRecovered': 0, 'NewHospitalized': 0, 'NewDeaths': 0, 'Confirmed': 35, 'Recovered': 15, 'Hospitalized': 20, 'Deaths': 0}, {'Date': '02/20/2020', 'NewConfirmed': 0, 'NewRecovered': 2, 'NewHospitalized': -2, 'NewDeaths': 0, 'Confirmed': 35, 'Recovered': 17, 'Hospitalized': 18, 'Deaths': 0}, {'Date': '02/21/2020', 'NewConfirmed': 0, 'NewRecovered': 2, 'NewHospitalized': -2, 'NewDeaths': 0, 'Confirmed': 35, 'Recovered': 19, 'Hospitalized': 16, 'Deaths': 0}, {'Date': '02/22/2020', 'NewConfirmed': 0, 'NewRecovered': 1, 'NewHospitalized': -1, 'NewDeaths': 0, 'Confirmed': 35, 'Recovered': 20, 'Hospitalized': 15, 'Deaths': 0}, {'Date': '02/23/2020', 'NewConfirmed': 0, 'NewRecovered': 1, 'NewHospitalized': -1, 'NewDeaths': 0, 'Confirmed': 35, 'Recovered': 21, 'Hospitalized': 14, 'Deaths': 0}, {'Date': '02/24/2020', 'NewConfirmed': 0, 'NewRecovered': 0, 'NewHospitalized': 0, 'NewDeaths': 0, 'Confirmed': 35, 'Recovered': 21, 'Hospitalized': 14, 'Deaths': 0}, {'Date': '02/25/2020', 'NewConfirmed': 2, 'NewRecovered': 1, 'NewHospitalized': 1, 'NewDeaths': 0, 'Confirmed': 37, 'Recovered': 22, 'Hospitalized': 15, 'Deaths': 0}, {'Date': '02/26/2020', 'NewConfirmed': 3, 'NewRecovered': 2, 'NewHospitalized': 1, 'NewDeaths': 0, 'Confirmed': 40, 'Recovered': 24, 'Hospitalized': 16, 'Deaths': 0}, {'Date': '02/27/2020', 'NewConfirmed': 0, 'NewRecovered': 0, 'NewHospitalized': 0, 'NewDeaths': 0, 'Confirmed': 40, 'Recovered': 24, 'Hospitalized': 16, 'Deaths': 0}, {'Date': '02/28/2020', 'NewConfirmed': 1, 'NewRecovered': 4, 'NewHospitalized': -3, 'NewDeaths': 0, 'Confirmed': 41, 'Recovered': 28, 'Hospitalized': 13, 'Deaths': 0}, {'Date': '02/29/2020', 'NewConfirmed': 1, 'NewRecovered': 0, 'NewHospitalized': 1, 'NewDeaths': 0, 'Confirmed': 42, 'Recovered': 28, 'Hospitalized': 14, 'Deaths': 0}, {'Date': '03/01/2020', 'NewConfirmed': 0, 'NewRecovered': 2, 'NewHospitalized': -3, 'NewDeaths': 1, 'Confirmed': 42, 'Recovered': 30, 'Hospitalized': 11, 'Deaths': 1}, {'Date': '03/02/2020', 'NewConfirmed': 1, 'NewRecovered': 1, 'NewHospitalized': 0, 'NewDeaths': 0, 'Confirmed': 43, 'Recovered': 31, 'Hospitalized': 11, 'Deaths': 1}, {'Date': '03/03/2020', 'NewConfirmed': 0, 'NewRecovered': 0, 'NewHospitalized': 0, 'NewDeaths': 0, 'Confirmed': 43, 'Recovered': 31, 'Hospitalized': 11, 'Deaths': 1}, {'Date': '03/04/2020', 'NewConfirmed': 0, 'NewRecovered': 0, 'NewHospitalized': 0, 'NewDeaths': 0, 'Confirmed': 43, 'Recovered': 31, 'Hospitalized': 11, 'Deaths': 1}, {'Date': '03/05/2020', 'NewConfirmed': 4, 'NewRecovered': 0, 'NewHospitalized': 4, 'NewDeaths': 0, 'Confirmed': 47, 'Recovered': 31, 'Hospitalized': 15, 'Deaths': 1}, {'Date': '03/06/2020', 'NewConfirmed': 1, 'NewRecovered': 0, 'NewHospitalized': 1, 'NewDeaths': 0, 'Confirmed': 48, 'Recovered': 31, 'Hospitalized': 16, 'Deaths': 1}, {'Date': '03/07/2020', 'NewConfirmed': 2, 'NewRecovered': 0, 'NewHospitalized': 2, 'NewDeaths': 0, 'Confirmed': 50, 'Recovered': 31, 'Hospitalized': 18, 'Deaths': 1}, {'Date': '03/08/2020', 'NewConfirmed': 0, 'NewRecovered': 2, 'NewHospitalized': -2, 'NewDeaths': 0, 'Confirmed': 50, 'Recovered': 33, 'Hospitalized': 16, 'Deaths': 1}, {'Date': '03/09/2020', 'NewConfirmed': 0, 'NewRecovered': 0, 'NewHospitalized': 0, 'NewDeaths': 0, 'Confirmed': 50, 'Recovered': 33, 'Hospitalized': 16, 'Deaths': 1}, {'Date': '03/10/2020', 'NewConfirmed': 3, 'NewRecovered': 0, 'NewHospitalized': 3, 'NewDeaths': 0, 'Confirmed': 53, 'Recovered': 33, 'Hospitalized': 19, 'Deaths': 1}, {'Date': '03/11/2020', 'NewConfirmed': 6, 'NewRecovered': 1, 'NewHospitalized': 5, 'NewDeaths': 0, 'Confirmed': 59, 'Recovered': 34, 'Hospitalized': 24, 'Deaths': 1}, {'Date': '03/12/2020', 'NewConfirmed': 11, 'NewRecovered': 1, 'NewHospitalized': 10, 'NewDeaths': 0, 'Confirmed': 70, 'Recovered': 35, 'Hospitalized': 34, 'Deaths': 1}, {'Date': '03/13/2020', 'NewConfirmed': 5, 'NewRecovered': 0, 'NewHospitalized': 5, 'NewDeaths': 0, 'Confirmed': 75, 'Recovered': 35, 'Hospitalized': 39, 'Deaths': 1}, {'Date': '03/14/2020', 'NewConfirmed': 7, 'NewRecovered': 0, 'NewHospitalized': 7, 'NewDeaths': 0, 'Confirmed': 82, 'Recovered': 35, 'Hospitalized': 46, 'Deaths': 1}, {'Date': '03/15/2020', 'NewConfirmed': 32, 'NewRecovered': 2, 'NewHospitalized': 30, 'NewDeaths': 0, 'Confirmed': 114, 'Recovered': 37, 'Hospitalized': 76, 'Deaths': 1}, {'Date': '03/16/2020', 'NewConfirmed': 33, 'NewRecovered': 1, 'NewHospitalized': 32, 'NewDeaths': 0, 'Confirmed': 147, 'Recovered': 38, 'Hospitalized': 108, 'Deaths': 1}, {'Date': '03/17/2020', 'NewConfirmed': 30, 'NewRecovered': 3, 'NewHospitalized': 27, 'NewDeaths': 0, 'Confirmed': 177, 'Recovered': 41, 'Hospitalized': 135, 'Deaths': 1}, {'Date': '03/18/2020', 'NewConfirmed': 35, 'NewRecovered': 1, 'NewHospitalized': 34, 'NewDeaths': 0, 'Confirmed': 212, 'Recovered': 42, 'Hospitalized': 169, 'Deaths': 1}, {'Date': '03/19/2020', 'NewConfirmed': 60, 'NewRecovered': 0, 'NewHospitalized': 60, 'NewDeaths': 0, 'Confirmed': 272, 'Recovered': 42, 'Hospitalized': 229, 'Deaths': 1}, {'Date': '03/20/2020', 'NewConfirmed': 50, 'NewRecovered': 1, 'NewHospitalized': 49, 'NewDeaths': 0, 'Confirmed': 322, 'Recovered': 43, 'Hospitalized': 278, 'Deaths': 1}, {'Date': '03/21/2020', 'NewConfirmed': 89, 'NewRecovered': 1, 'NewHospitalized': 88, 'NewDeaths': 0, 'Confirmed': 411, 'Recovered': 44, 'Hospitalized': 366, 'Deaths': 1}, {'Date': '03/22/2020', 'NewConfirmed': 188, 'NewRecovered': 1, 'NewHospitalized': 187, 'NewDeaths': 0, 'Confirmed': 599, 'Recovered': 45, 'Hospitalized': 553, 'Deaths': 1}, {'Date': '03/23/2020', 'NewConfirmed': 122, 'NewRecovered': 7, 'NewHospitalized': 115, 'NewDeaths': 0, 'Confirmed': 721, 'Recovered': 52, 'Hospitalized': 668, 'Deaths': 1}, {'Date': '03/24/2020', 'NewConfirmed': 106, 'NewRecovered': 5, 'NewHospitalized': 98, 'NewDeaths': 3, 'Confirmed': 827, 'Recovered': 57, 'Hospitalized': 766, 'Deaths': 4}, {'Date': '03/25/2020', 'NewConfirmed': 107, 'NewRecovered': 13, 'NewHospitalized': 94, 'NewDeaths': 0, 'Confirmed': 934, 'Recovered': 70, 'Hospitalized': 860, 'Deaths': 4}, {'Date': '03/26/2020', 'NewConfirmed': 111, 'NewRecovered': 18, 'NewHospitalized': 93, 'NewDeaths': 0, 'Confirmed': 1045, 'Recovered': 88, 'Hospitalized': 953, 'Deaths': 4}, {'Date': '03/27/2020', 'NewConfirmed': 91, 'NewRecovered': 9, 'NewHospitalized': 81, 'NewDeaths': 1, 'Confirmed': 1136, 'Recovered': 97, 'Hospitalized': 1034, 'Deaths': 5}, {'Date': '03/28/2020', 'NewConfirmed': 109, 'NewRecovered': 3, 'NewHospitalized': 105, 'NewDeaths': 1, 'Confirmed': 1245, 'Recovered': 100, 'Hospitalized': 1139, 'Deaths': 6}, {'Date': '03/29/2020', 'NewConfirmed': 143, 'NewRecovered': 11, 'NewHospitalized': 131, 'NewDeaths': 1, 'Confirmed': 1388, 'Recovered': 111, 'Hospitalized': 1270, 'Deaths': 7}, {'Date': '03/30/2020', 'NewConfirmed': 136, 'NewRecovered': 16, 'NewHospitalized': 118, 'NewDeaths': 2, 'Confirmed': 1524, 'Recovered': 127, 'Hospitalized': 1388, 'Deaths': 9}, {'Date': '03/31/2020', 'NewConfirmed': 127, 'NewRecovered': 215, 'NewHospitalized': -89, 'NewDeaths': 1, 'Confirmed': 1651, 'Recovered': 342, 'Hospitalized': 1299, 'Deaths': 10}, {'Date': '04/01/2020', 'NewConfirmed': 120, 'NewRecovered': 74, 'NewHospitalized': 44, 'NewDeaths': 2, 'Confirmed': 1771, 'Recovered': 416, 'Hospitalized': 1343, 'Deaths': 12}, {'Date': '04/02/2020', 'NewConfirmed': 104, 'NewRecovered': 89, 'NewHospitalized': 12, 'NewDeaths': 3, 'Confirmed': 1875, 'Recovered': 505, 'Hospitalized': 1355, 'Deaths': 15}, {'Date': '04/03/2020', 'NewConfirmed': 103, 'NewRecovered': 76, 'NewHospitalized': 23, 'NewDeaths': 4, 'Confirmed': 1978, 'Recovered': 581, 'Hospitalized': 1378, 'Deaths': 19}, {'Date': '04/04/2020', 'NewConfirmed': 89, 'NewRecovered': 31, 'NewHospitalized': 57, 'NewDeaths': 1, 'Confirmed': 2067, 'Recovered': 612, 'Hospitalized': 1435, 'Deaths': 20}, {'Date': '04/05/2020', 'NewConfirmed': 102, 'NewRecovered': 62, 'NewHospitalized': 37, 'NewDeaths': 3, 'Confirmed': 2169, 'Recovered': 674, 'Hospitalized': 1472, 'Deaths': 23}, {'Date': '04/06/2020', 'NewConfirmed': 51, 'NewRecovered': 119, 'NewHospitalized': -71, 'NewDeaths': 3, 'Confirmed': 2220, 'Recovered': 793, 'Hospitalized': 1401, 'Deaths': 26}, {'Date': '04/07/2020', 'NewConfirmed': 38, 'NewRecovered': 31, 'NewHospitalized': 6, 'NewDeaths': 1, 'Confirmed': 2258, 'Recovered': 824, 'Hospitalized': 1407, 'Deaths': 27}, {'Date': '04/08/2020', 'NewConfirmed': 111, 'NewRecovered': 64, 'NewHospitalized': 44, 'NewDeaths': 3, 'Confirmed': 2369, 'Recovered': 888, 'Hospitalized': 1451, 'Deaths': 30}, {'Date': '04/09/2020', 'NewConfirmed': 54, 'NewRecovered': 52, 'NewHospitalized': 0, 'NewDeaths': 2, 'Confirmed': 2423, 'Recovered': 940, 'Hospitalized': 1451, 'Deaths': 32}, {'Date': '04/10/2020', 'NewConfirmed': 50, 'NewRecovered': 73, 'NewHospitalized': -24, 'NewDeaths': 1, 'Confirmed': 2473, 'Recovered': 1013, 'Hospitalized': 1427, 'Deaths': 33}, {'Date': '04/11/2020', 'NewConfirmed': 45, 'NewRecovered': 122, 'NewHospitalized': -79, 'NewDeaths': 2, 'Confirmed': 2518, 'Recovered': 1135, 'Hospitalized': 1348, 'Deaths': 35}, {'Date': '04/12/2020', 'NewConfirmed': 33, 'NewRecovered': 83, 'NewHospitalized': -53, 'NewDeaths': 3, 'Confirmed': 2551, 'Recovered': 1218, 'Hospitalized': 1295, 'Deaths': 38}, {'Date': '04/13/2020', 'NewConfirmed': 28, 'NewRecovered': 70, 'NewHospitalized': -44, 'NewDeaths': 2, 'Confirmed': 2579, 'Recovered': 1288, 'Hospitalized': 1251, 'Deaths': 40}, {'Date': '04/14/2020', 'NewConfirmed': 34, 'NewRecovered': 117, 'NewHospitalized': -84, 'NewDeaths': 1, 'Confirmed': 2613, 'Recovered': 1405, 'Hospitalized': 1167, 'Deaths': 41}, {'Date': '04/15/2020', 'NewConfirmed': 30, 'NewRecovered': 92, 'NewHospitalized': -64, 'NewDeaths': 2, 'Confirmed': 2643, 'Recovered': 1497, 'Hospitalized': 1103, 'Deaths': 43}, {'Date': '04/16/2020', 'NewConfirmed': 29, 'NewRecovered': 96, 'NewHospitalized': -70, 'NewDeaths': 3, 'Confirmed': 2672, 'Recovered': 1593, 'Hospitalized': 1033, 'Deaths': 46}, {'Date': '04/17/2020', 'NewConfirmed': 28, 'NewRecovered': 96, 'NewHospitalized': -69, 'NewDeaths': 1, 'Confirmed': 2700, 'Recovered': 1689, 'Hospitalized': 964, 'Deaths': 47}, {'Date': '04/18/2020', 'NewConfirmed': 33, 'NewRecovered': 98, 'NewHospitalized': -65, 'NewDeaths': 0, 'Confirmed': 2733, 'Recovered': 1787, 'Hospitalized': 899, 'Deaths': 47}, {'Date': '04/19/2020', 'NewConfirmed': 32, 'NewRecovered': 141, 'NewHospitalized': -109, 'NewDeaths': 0, 'Confirmed': 2765, 'Recovered': 1928, 'Hospitalized': 790, 'Deaths': 47}, {'Date': '04/20/2020', 'NewConfirmed': 27, 'NewRecovered': 71, 'NewHospitalized': -44, 'NewDeaths': 0, 'Confirmed': 2792, 'Recovered': 1999, 'Hospitalized': 746, 'Deaths': 47}, {'Date': '04/21/2020', 'NewConfirmed': 19, 'NewRecovered': 109, 'NewHospitalized': -91, 'NewDeaths': 1, 'Confirmed': 2811, 'Recovered': 2108, 'Hospitalized': 655, 'Deaths': 48}, {'Date': '04/22/2020', 'NewConfirmed': 15, 'NewRecovered': 244, 'NewHospitalized': -230, 'NewDeaths': 1, 'Confirmed': 2826, 'Recovered': 2352, 'Hospitalized': 425, 'Deaths': 49}, {'Date': '04/23/2020', 'NewConfirmed': 13, 'NewRecovered': 78, 'NewHospitalized': -66, 'NewDeaths': 1, 'Confirmed': 2839, 'Recovered': 2430, 'Hospitalized': 359, 'Deaths': 50}, {'Date': '04/24/2020', 'NewConfirmed': 15, 'NewRecovered': 60, 'NewHospitalized': -45, 'NewDeaths': 0, 'Confirmed': 2854, 'Recovered': 2490, 'Hospitalized': 314, 'Deaths': 50}, {'Date': '04/25/2020', 'NewConfirmed': 53, 'NewRecovered': 57, 'NewHospitalized': -5, 'NewDeaths': 1, 'Confirmed': 2907, 'Recovered': 2547, 'Hospitalized': 309, 'Deaths': 51}, {'Date': '04/26/2020', 'NewConfirmed': 15, 'NewRecovered': 47, 'NewHospitalized': -32, 'NewDeaths': 0, 'Confirmed': 2922, 'Recovered': 2594, 'Hospitalized': 277, 'Deaths': 51}, {'Date': '04/27/2020', 'NewConfirmed': 9, 'NewRecovered': 15, 'NewHospitalized': -7, 'NewDeaths': 1, 'Confirmed': 2931, 'Recovered': 2609, 'Hospitalized': 270, 'Deaths': 52}, {'Date': '04/28/2020', 'NewConfirmed': 7, 'NewRecovered': 43, 'NewHospitalized': -38, 'NewDeaths': 2, 'Confirmed': 2938, 'Recovered': 2652, 'Hospitalized': 232, 'Deaths': 54}, {'Date': '04/29/2020', 'NewConfirmed': 9, 'NewRecovered': 13, 'NewHospitalized': -4, 'NewDeaths': 0, 'Confirmed': 2947, 'Recovered': 2665, 'Hospitalized': 228, 'Deaths': 54}, {'Date': '04/30/2020', 'NewConfirmed': 7, 'NewRecovered': 22, 'NewHospitalized': -15, 'NewDeaths': 0, 'Confirmed': 2954, 'Recovered': 2687, 'Hospitalized': 213, 'Deaths': 54}, {'Date': '05/01/2020', 'NewConfirmed': 6, 'NewRecovered': 32, 'NewHospitalized': -26, 'NewDeaths': 0, 'Confirmed': 2960, 'Recovered': 2719, 'Hospitalized': 187, 'Deaths': 54}, {'Date': '05/02/2020', 'NewConfirmed': 6, 'NewRecovered': 13, 'NewHospitalized': -7, 'NewDeaths': 0, 'Confirmed': 2966, 'Recovered': 2732, 'Hospitalized': 180, 'Deaths': 54}, {'Date': '05/03/2020', 'NewConfirmed': 3, 'NewRecovered': 7, 'NewHospitalized': -4, 'NewDeaths': 0, 'Confirmed': 2969, 'Recovered': 2739, 'Hospitalized': 176, 'Deaths': 54}, {'Date': '05/04/2020', 'NewConfirmed': 18, 'NewRecovered': 1, 'NewHospitalized': 17, 'NewDeaths': 0, 'Confirmed': 2987, 'Recovered': 2740, 'Hospitalized': 193, 'Deaths': 54}, {'Date': '05/05/2020', 'NewConfirmed': 1, 'NewRecovered': 7, 'NewHospitalized': -6, 'NewDeaths': 0, 'Confirmed': 2988, 'Recovered': 2747, 'Hospitalized': 187, 'Deaths': 54}, {'Date': '05/06/2020', 'NewConfirmed': 1, 'NewRecovered': 14, 'NewHospitalized': -14, 'NewDeaths': 1, 'Confirmed': 2989, 'Recovered': 2761, 'Hospitalized': 173, 'Deaths': 55}, {'Date': '05/07/2020', 'NewConfirmed': 3, 'NewRecovered': 11, 'NewHospitalized': -8, 'NewDeaths': 0, 'Confirmed': 2992, 'Recovered': 2772, 'Hospitalized': 165, 'Deaths': 55}, {'Date': '05/08/2020', 'NewConfirmed': 8, 'NewRecovered': 12, 'NewHospitalized': -4, 'NewDeaths': 0, 'Confirmed': 3000, 'Recovered': 2784, 'Hospitalized': 161, 'Deaths': 55}, {'Date': '05/09/2020', 'NewConfirmed': 4, 'NewRecovered': 3, 'NewHospitalized': 0, 'NewDeaths': 1, 'Confirmed': 3004, 'Recovered': 2787, 'Hospitalized': 161, 'Deaths': 56}, {'Date': '05/10/2020', 'NewConfirmed': 5, 'NewRecovered': 7, 'NewHospitalized': -2, 'NewDeaths': 0, 'Confirmed': 3009, 'Recovered': 2794, 'Hospitalized': 159, 'Deaths': 56}, {'Date': '05/11/2020', 'NewConfirmed': 6, 'NewRecovered': 2, 'NewHospitalized': 4, 'NewDeaths': 0, 'Confirmed': 3015, 'Recovered': 2796, 'Hospitalized': 163, 'Deaths': 56}, {'Date': '05/12/2020', 'NewConfirmed': 2, 'NewRecovered': 2, 'NewHospitalized': 0, 'NewDeaths': 0, 'Confirmed': 3017, 'Recovered': 2798, 'Hospitalized': 163, 'Deaths': 56}, {'Date': '05/13/2020', 'NewConfirmed': 0, 'NewRecovered': 46, 'NewHospitalized': -46, 'NewDeaths': 0, 'Confirmed': 3017, 'Recovered': 2844, 'Hospitalized': 117, 'Deaths': 56}, {'Date': '05/14/2020', 'NewConfirmed': 1, 'NewRecovered': 6, 'NewHospitalized': -5, 'NewDeaths': 0, 'Confirmed': 3018, 'Recovered': 2850, 'Hospitalized': 112, 'Deaths': 56}, {'Date': '05/15/2020', 'NewConfirmed': 7, 'NewRecovered': 4, 'NewHospitalized': 3, 'NewDeaths': 0, 'Confirmed': 3025, 'Recovered': 2854, 'Hospitalized': 115, 'Deaths': 56}, {'Date': '05/16/2020', 'NewConfirmed': 0, 'NewRecovered': 1, 'NewHospitalized': -1, 'NewDeaths': 0, 'Confirmed': 3025, 'Recovered': 2855, 'Hospitalized': 114, 'Deaths': 56}, {'Date': '05/17/2020', 'NewConfirmed': 3, 'NewRecovered': 1, 'NewHospitalized': 2, 'NewDeaths': 0, 'Confirmed': 3028, 'Recovered': 2856, 'Hospitalized': 116, 'Deaths': 56}, {'Date': '05/18/2020', 'NewConfirmed': 3, 'NewRecovered': 1, 'NewHospitalized': 2, 'NewDeaths': 0, 'Confirmed': 3031, 'Recovered': 2857, 'Hospitalized': 118, 'Deaths': 56}, {'Date': '05/19/2020', 'NewConfirmed': 2, 'NewRecovered': 0, 'NewHospitalized': 2, 'NewDeaths': 0, 'Confirmed': 3033, 'Recovered': 2857, 'Hospitalized': 120, 'Deaths': 56}, {'Date': '05/20/2020', 'NewConfirmed': 1, 'NewRecovered': 31, 'NewHospitalized': -30, 'NewDeaths': 0, 'Confirmed': 3034, 'Recovered': 2888, 'Hospitalized': 90, 'Deaths': 56}, {'Date': '05/21/2020', 'NewConfirmed': 3, 'NewRecovered': 9, 'NewHospitalized': -6, 'NewDeaths': 0, 'Confirmed': 3037, 'Recovered': 2897, 'Hospitalized': 84, 'Deaths': 56}, {'Date': '05/22/2020', 'NewConfirmed': 0, 'NewRecovered': 13, 'NewHospitalized': -13, 'NewDeaths': 0, 'Confirmed': 3037, 'Recovered': 2910, 'Hospitalized': 71, 'Deaths': 56}, {'Date': '05/23/2020', 'NewConfirmed': 3, 'NewRecovered': 6, 'NewHospitalized': -3, 'NewDeaths': 0, 'Confirmed': 3040, 'Recovered': 2916, 'Hospitalized': 68, 'Deaths': 56}, {'Date': '05/24/2020', 'NewConfirmed': 0, 'NewRecovered': 5, 'NewHospitalized': -5, 'NewDeaths': 0, 'Confirmed': 3040, 'Recovered': 2921, 'Hospitalized': 63, 'Deaths': 56}, {'Date': '05/25/2020', 'NewConfirmed': 2, 'NewRecovered': 7, 'NewHospitalized': -6, 'NewDeaths': 1, 'Confirmed': 3042, 'Recovered': 2928, 'Hospitalized': 57, 'Deaths': 57}, {'Date': '05/26/2020', 'NewConfirmed': 3, 'NewRecovered': 1, 'NewHospitalized': 2, 'NewDeaths': 0, 'Confirmed': 3045, 'Recovered': 2929, 'Hospitalized': 59, 'Deaths': 57}, {'Date': '05/27/2020', 'NewConfirmed': 9, 'NewRecovered': 2, 'NewHospitalized': 7, 'NewDeaths': 0, 'Confirmed': 3054, 'Recovered': 2931, 'Hospitalized': 66, 'Deaths': 57}, {'Date': '05/28/2020', 'NewConfirmed': 11, 'NewRecovered': 14, 'NewHospitalized': -3, 'NewDeaths': 0, 'Confirmed': 3065, 'Recovered': 2945, 'Hospitalized': 63, 'Deaths': 57}, {'Date': '05/29/2020', 'NewConfirmed': 11, 'NewRecovered': 0, 'NewHospitalized': 11, 'NewDeaths': 0, 'Confirmed': 3076, 'Recovered': 2945, 'Hospitalized': 74, 'Deaths': 57}, {'Date': '05/30/2020', 'NewConfirmed': 1, 'NewRecovered': 16, 'NewHospitalized': -15, 'NewDeaths': 0, 'Confirmed': 3077, 'Recovered': 2961, 'Hospitalized': 59, 'Deaths': 57}, {'Date': '05/31/2020', 'NewConfirmed': 4, 'NewRecovered': 2, 'NewHospitalized': 2, 'NewDeaths': 0, 'Confirmed': 3081, 'Recovered': 2963, 'Hospitalized': 61, 'Deaths': 57}, {'Date': '06/01/2020', 'NewConfirmed': 1, 'NewRecovered': 2, 'NewHospitalized': -1, 'NewDeaths': 0, 'Confirmed': 3082, 'Recovered': 2965, 'Hospitalized': 60, 'Deaths': 57}, {'Date': '06/02/2020', 'NewConfirmed': 1, 'NewRecovered': 1, 'NewHospitalized': -1, 'NewDeaths': 1, 'Confirmed': 3083, 'Recovered': 2966, 'Hospitalized': 59, 'Deaths': 58}, {'Date': '06/03/2020', 'NewConfirmed': 1, 'NewRecovered': 2, 'NewHospitalized': -1, 'NewDeaths': 0, 'Confirmed': 3084, 'Recovered': 2968, 'Hospitalized': 58, 'Deaths': 58}, {'Date': '06/04/2020', 'NewConfirmed': 17, 'NewRecovered': 0, 'NewHospitalized': 17, 'NewDeaths': 0, 'Confirmed': 3101, 'Recovered': 2968, 'Hospitalized': 75, 'Deaths': 58}, {'Date': '06/05/2020', 'NewConfirmed': 1, 'NewRecovered': 3, 'NewHospitalized': -2, 'NewDeaths': 0, 'Confirmed': 3102, 'Recovered': 2971, 'Hospitalized': 73, 'Deaths': 58}, {'Date': '06/06/2020', 'NewConfirmed': 2, 'NewRecovered': 0, 'NewHospitalized': 2, 'NewDeaths': 0, 'Confirmed': 3104, 'Recovered': 2971, 'Hospitalized': 75, 'Deaths': 58}, {'Date': '06/07/2020', 'NewConfirmed': 8, 'NewRecovered': 1, 'NewHospitalized': 7, 'NewDeaths': 0, 'Confirmed': 3112, 'Recovered': 2972, 'Hospitalized': 82, 'Deaths': 58}, {'Date': '06/08/2020', 'NewConfirmed': 7, 'NewRecovered': 1, 'NewHospitalized': 6, 'NewDeaths': 0, 'Confirmed': 3119, 'Recovered': 2973, 'Hospitalized': 88, 'Deaths': 58}, {'Date': '06/09/2020', 'NewConfirmed': 2, 'NewRecovered': 0, 'NewHospitalized': 2, 'NewDeaths': 0, 'Confirmed': 3121, 'Recovered': 2973, 'Hospitalized': 90, 'Deaths': 58}, {'Date': '06/10/2020', 'NewConfirmed': 4, 'NewRecovered': 8, 'NewHospitalized': -4, 'NewDeaths': 0, 'Confirmed': 3125, 'Recovered': 2981, 'Hospitalized': 86, 'Deaths': 58}, {'Date': '06/11/2020', 'NewConfirmed': 0, 'NewRecovered': 6, 'NewHospitalized': -6, 'NewDeaths': 0, 'Confirmed': 3125, 'Recovered': 2987, 'Hospitalized': 80, 'Deaths': 58}, {'Date': '06/12/2020', 'NewConfirmed': 4, 'NewRecovered': 0, 'NewHospitalized': 4, 'NewDeaths': 0, 'Confirmed': 3129, 'Recovered': 2987, 'Hospitalized': 84, 'Deaths': 58}, {'Date': '06/13/2020', 'NewConfirmed': 5, 'NewRecovered': 0, 'NewHospitalized': 5, 'NewDeaths': 0, 'Confirmed': 3134, 'Recovered': 2987, 'Hospitalized': 89, 'Deaths': 58}, {'Date': '06/14/2020', 'NewConfirmed': 1, 'NewRecovered': 0, 'NewHospitalized': 1, 'NewDeaths': 0, 'Confirmed': 3135, 'Recovered': 2987, 'Hospitalized': 90, 'Deaths': 58}, {'Date': '06/15/2020', 'NewConfirmed': 0, 'NewRecovered': 0, 'NewHospitalized': 0, 'NewDeaths': 0, 'Confirmed': 3135, 'Recovered': 2987, 'Hospitalized': 90, 'Deaths': 58}, {'Date': '06/16/2020', 'NewConfirmed': 0, 'NewRecovered': 6, 'NewHospitalized': -6, 'NewDeaths': 0, 'Confirmed': 3135, 'Recovered': 2993, 'Hospitalized': 84, 'Deaths': 58}, {'Date': '06/17/2020', 'NewConfirmed': 0, 'NewRecovered': 3, 'NewHospitalized': -3, 'NewDeaths': 0, 'Confirmed': 3135, 'Recovered': 2996, 'Hospitalized': 81, 'Deaths': 58}, {'Date': '06/18/2020', 'NewConfirmed': 6, 'NewRecovered': 1, 'NewHospitalized': 5, 'NewDeaths': 0, 'Confirmed': 3141, 'Recovered': 2997, 'Hospitalized': 86, 'Deaths': 58}, {'Date': '06/19/2020', 'NewConfirmed': 5, 'NewRecovered': 11, 'NewHospitalized': -6, 'NewDeaths': 0, 'Confirmed': 3146, 'Recovered': 3008, 'Hospitalized': 80, 'Deaths': 58}, {'Date': '06/20/2020', 'NewConfirmed': 1, 'NewRecovered': 10, 'NewHospitalized': -9, 'NewDeaths': 0, 'Confirmed': 3147, 'Recovered': 3018, 'Hospitalized': 71, 'Deaths': 58}, {'Date': '06/21/2020', 'NewConfirmed': 1, 'NewRecovered': 0, 'NewHospitalized': 1, 'NewDeaths': 0, 'Confirmed': 3148, 'Recovered': 3018, 'Hospitalized': 72, 'Deaths': 58}, {'Date': '06/22/2020', 'NewConfirmed': 3, 'NewRecovered': 4, 'NewHospitalized': -1, 'NewDeaths': 0, 'Confirmed': 3151, 'Recovered': 3022, 'Hospitalized': 71, 'Deaths': 58}, {'Date': '06/23/2020', 'NewConfirmed': 5, 'NewRecovered': 1, 'NewHospitalized': 4, 'NewDeaths': 0, 'Confirmed': 3156, 'Recovered': 3023, 'Hospitalized': 75, 'Deaths': 58}, {'Date': '06/24/2020', 'NewConfirmed': 1, 'NewRecovered': 3, 'NewHospitalized': -2, 'NewDeaths': 0, 'Confirmed': 3157, 'Recovered': 3026, 'Hospitalized': 73, 'Deaths': 58}, {'Date': '06/25/2020', 'NewConfirmed': 1, 'NewRecovered': 12, 'NewHospitalized': -11, 'NewDeaths': 0, 'Confirmed': 3158, 'Recovered': 3038, 'Hospitalized': 62, 'Deaths': 58}, {'Date': '06/26/2020', 'NewConfirmed': 4, 'NewRecovered': 2, 'NewHospitalized': 2, 'NewDeaths': 0, 'Confirmed': 3162, 'Recovered': 3040, 'Hospitalized': 64, 'Deaths': 58}, {'Date': '06/27/2020', 'NewConfirmed': 0, 'NewRecovered': 13, 'NewHospitalized': -13, 'NewDeaths': 0, 'Confirmed': 3162, 'Recovered': 3053, 'Hospitalized': 51, 'Deaths': 58}, {'Date': '06/28/2020', 'NewConfirmed': 0, 'NewRecovered': 0, 'NewHospitalized': 0, 'NewDeaths': 0, 'Confirmed': 3162, 'Recovered': 3053, 'Hospitalized': 51, 'Deaths': 58}, {'Date': '06/29/2020', 'NewConfirmed': 7, 'NewRecovered': 0, 'NewHospitalized': 7, 'NewDeaths': 0, 'Confirmed': 3169, 'Recovered': 3053, 'Hospitalized': 58, 'Deaths': 58}, {'Date': '06/30/2020', 'NewConfirmed': 2, 'NewRecovered': 3, 'NewHospitalized': -1, 'NewDeaths': 0, 'Confirmed': 3171, 'Recovered': 3056, 'Hospitalized': 57, 'Deaths': 58}, {'Date': '07/01/2020', 'NewConfirmed': 2, 'NewRecovered': 3, 'NewHospitalized': -1, 'NewDeaths': 0, 'Confirmed': 3173, 'Recovered': 3059, 'Hospitalized': 56, 'Deaths': 58}, {'Date': '07/02/2020', 'NewConfirmed': 6, 'NewRecovered': 0, 'NewHospitalized': 6, 'NewDeaths': 0, 'Confirmed': 3179, 'Recovered': 3059, 'Hospitalized': 62, 'Deaths': 58}, {'Date': '07/03/2020', 'NewConfirmed': 1, 'NewRecovered': 7, 'NewHospitalized': -6, 'NewDeaths': 0, 'Confirmed': 3180, 'Recovered': 3066, 'Hospitalized': 56, 'Deaths': 58}, {'Date': '07/04/2020', 'NewConfirmed': 5, 'NewRecovered': 0, 'NewHospitalized': 5, 'NewDeaths': 0, 'Confirmed': 3185, 'Recovered': 3066, 'Hospitalized': 61, 'Deaths': 58}, {'Date': '07/05/2020', 'NewConfirmed': 5, 'NewRecovered': 5, 'NewHospitalized': 0, 'NewDeaths': 0, 'Confirmed': 3190, 'Recovered': 3071, 'Hospitalized': 61, 'Deaths': 58}, {'Date': '07/06/2020', 'NewConfirmed': 5, 'NewRecovered': 1, 'NewHospitalized': 4, 'NewDeaths': 0, 'Confirmed': 3195, 'Recovered': 3072, 'Hospitalized': 65, 'Deaths': 58}, {'Date': '07/07/2020', 'NewConfirmed': 0, 'NewRecovered': 0, 'NewHospitalized': 0, 'NewDeaths': 0, 'Confirmed': 3195, 'Recovered': 3072, 'Hospitalized': 65, 'Deaths': 58}, {'Date': '07/08/2020', 'NewConfirmed': 2, 'NewRecovered': 2, 'NewHospitalized': 0, 'NewDeaths': 0, 'Confirmed': 3197, 'Recovered': 3074, 'Hospitalized': 65, 'Deaths': 58}, {'Date': '07/09/2020', 'NewConfirmed': 5, 'NewRecovered': 11, 'NewHospitalized': -6, 'NewDeaths': 0, 'Confirmed': 3202, 'Recovered': 3085, 'Hospitalized': 59, 'Deaths': 58}, {'Date': '07/10/2020', 'NewConfirmed': 0, 'NewRecovered': 2, 'NewHospitalized': -2, 'NewDeaths': 0, 'Confirmed': 3202, 'Recovered': 3087, 'Hospitalized': 57, 'Deaths': 58}, {'Date': '07/11/2020', 'NewConfirmed': 14, 'NewRecovered': 1, 'NewHospitalized': 13, 'NewDeaths': 0, 'Confirmed': 3216, 'Recovered': 3088, 'Hospitalized': 70, 'Deaths': 58}, {'Date': '07/12/2020', 'NewConfirmed': 1, 'NewRecovered': 0, 'NewHospitalized': 1, 'NewDeaths': 0, 'Confirmed': 3217, 'Recovered': 3088, 'Hospitalized': 71, 'Deaths': 58}, {'Date': '07/13/2020', 'NewConfirmed': 3, 'NewRecovered': 2, 'NewHospitalized': 1, 'NewDeaths': 0, 'Confirmed': 3220, 'Recovered': 3090, 'Hospitalized': 72, 'Deaths': 58}, {'Date': '07/14/2020', 'NewConfirmed': 7, 'NewRecovered': 1, 'NewHospitalized': 6, 'NewDeaths': 0, 'Confirmed': 3227, 'Recovered': 3091, 'Hospitalized': 78, 'Deaths': 58}, {'Date': '07/15/2020', 'NewConfirmed': 5, 'NewRecovered': 1, 'NewHospitalized': 4, 'NewDeaths': 0, 'Confirmed': 3232, 'Recovered': 3092, 'Hospitalized': 82, 'Deaths': 58}, {'Date': '07/16/2020', 'NewConfirmed': 4, 'NewRecovered': 3, 'NewHospitalized': 1, 'NewDeaths': 0, 'Confirmed': 3236, 'Recovered': 3095, 'Hospitalized': 83, 'Deaths': 58}, {'Date': '07/17/2020', 'NewConfirmed': 3, 'NewRecovered': 1, 'NewHospitalized': 2, 'NewDeaths': 0, 'Confirmed': 3239, 'Recovered': 3096, 'Hospitalized': 85, 'Deaths': 58}, {'Date': '07/18/2020', 'NewConfirmed': 7, 'NewRecovered': 0, 'NewHospitalized': 7, 'NewDeaths': 0, 'Confirmed': 3246, 'Recovered': 3096, 'Hospitalized': 92, 'Deaths': 58}, {'Date': '07/19/2020', 'NewConfirmed': 3, 'NewRecovered': 0, 'NewHospitalized': 3, 'NewDeaths': 0, 'Confirmed': 3249, 'Recovered': 3096, 'Hospitalized': 95, 'Deaths': 58}, {'Date': '07/20/2020', 'NewConfirmed': 1, 'NewRecovered': 0, 'NewHospitalized': 1, 'NewDeaths': 0, 'Confirmed': 3250, 'Recovered': 3096, 'Hospitalized': 96, 'Deaths': 58}, {'Date': '07/21/2020', 'NewConfirmed': 5, 'NewRecovered': 9, 'NewHospitalized': -4, 'NewDeaths': 0, 'Confirmed': 3255, 'Recovered': 3105, 'Hospitalized': 92, 'Deaths': 58}, {'Date': '07/22/2020', 'NewConfirmed': 6, 'NewRecovered': 0, 'NewHospitalized': 6, 'NewDeaths': 0, 'Confirmed': 3261, 'Recovered': 3105, 'Hospitalized': 98, 'Deaths': 58}, {'Date': '07/23/2020', 'NewConfirmed': 8, 'NewRecovered': 0, 'NewHospitalized': 8, 'NewDeaths': 0, 'Confirmed': 3269, 'Recovered': 3105, 'Hospitalized': 106, 'Deaths': 58}, {'Date': '07/24/2020', 'NewConfirmed': 10, 'NewRecovered': 2, 'NewHospitalized': 8, 'NewDeaths': 0, 'Confirmed': 3279, 'Recovered': 3107, 'Hospitalized': 114, 'Deaths': 58}, {'Date': '07/25/2020', 'NewConfirmed': 3, 'NewRecovered': 2, 'NewHospitalized': 1, 'NewDeaths': 0, 'Confirmed': 3282, 'Recovered': 3109, 'Hospitalized': 115, 'Deaths': 58}, {'Date': '07/26/2020', 'NewConfirmed': 9, 'NewRecovered': 0, 'NewHospitalized': 9, 'NewDeaths': 0, 'Confirmed': 3291, 'Recovered': 3109, 'Hospitalized': 124, 'Deaths': 58}, {'Date': '07/27/2020', 'NewConfirmed': 4, 'NewRecovered': 2, 'NewHospitalized': 2, 'NewDeaths': 0, 'Confirmed': 3295, 'Recovered': 3111, 'Hospitalized': 126, 'Deaths': 58}, {'Date': '07/28/2020', 'NewConfirmed': 2, 'NewRecovered': 0, 'NewHospitalized': 2, 'NewDeaths': 0, 'Confirmed': 3297, 'Recovered': 3111, 'Hospitalized': 128, 'Deaths': 58}, {'Date': '07/29/2020', 'NewConfirmed': 1, 'NewRecovered': 0, 'NewHospitalized': 1, 'NewDeaths': 0, 'Confirmed': 3298, 'Recovered': 3111, 'Hospitalized': 129, 'Deaths': 58}, {'Date': '07/30/2020', 'NewConfirmed': 6, 'NewRecovered': 0, 'NewHospitalized': 6, 'NewDeaths': 0, 'Confirmed': 3304, 'Recovered': 3111, 'Hospitalized': 135, 'Deaths': 58}, {'Date': '07/31/2020', 'NewConfirmed': 6, 'NewRecovered': 14, 'NewHospitalized': -8, 'NewDeaths': 0, 'Confirmed': 3310, 'Recovered': 3125, 'Hospitalized': 127, 'Deaths': 58}, {'Date': '08/01/2020', 'NewConfirmed': 2, 'NewRecovered': 10, 'NewHospitalized': -8, 'NewDeaths': 0, 'Confirmed': 3312, 'Recovered': 3135, 'Hospitalized': 119, 'Deaths': 58}, {'Date': '08/02/2020', 'NewConfirmed': 5, 'NewRecovered': 7, 'NewHospitalized': -2, 'NewDeaths': 0, 'Confirmed': 3317, 'Recovered': 3142, 'Hospitalized': 117, 'Deaths': 58}, {'Date': '08/03/2020', 'NewConfirmed': 3, 'NewRecovered': 0, 'NewHospitalized': 3, 'NewDeaths': 0, 'Confirmed': 3320, 'Recovered': 3142, 'Hospitalized': 120, 'Deaths': 58}, {'Date': '08/04/2020', 'NewConfirmed': 1, 'NewRecovered': 0, 'NewHospitalized': 1, 'NewDeaths': 0, 'Confirmed': 3321, 'Recovered': 3142, 'Hospitalized': 121, 'Deaths': 58}, {'Date': '08/05/2020', 'NewConfirmed': 7, 'NewRecovered': 2, 'NewHospitalized': 5, 'NewDeaths': 0, 'Confirmed': 3328, 'Recovered': 3144, 'Hospitalized': 126, 'Deaths': 58}, {'Date': '08/06/2020', 'NewConfirmed': 2, 'NewRecovered': 4, 'NewHospitalized': -2, 'NewDeaths': 0, 'Confirmed': 3330, 'Recovered': 3148, 'Hospitalized': 124, 'Deaths': 58}, {'Date': '08/07/2020', 'NewConfirmed': 15, 'NewRecovered': 0, 'NewHospitalized': 15, 'NewDeaths': 0, 'Confirmed': 3345, 'Recovered': 3148, 'Hospitalized': 139, 'Deaths': 58}, {'Date': '08/08/2020', 'NewConfirmed': 3, 'NewRecovered': 2, 'NewHospitalized': 1, 'NewDeaths': 0, 'Confirmed': 3348, 'Recovered': 3150, 'Hospitalized': 140, 'Deaths': 58}, {'Date': '08/09/2020', 'NewConfirmed': 3, 'NewRecovered': 1, 'NewHospitalized': 2, 'NewDeaths': 0, 'Confirmed': 3351, 'Recovered': 3151, 'Hospitalized': 142, 'Deaths': 58}]}\n"
     ]
    }
   ],
   "source": [
    "r = requests.get('https://covid19.th-stat.com/api/open/timeline')\n",
    "print(r.json())\n"
   ]
  },
  {
   "cell_type": "code",
   "execution_count": 40,
   "metadata": {},
   "outputs": [
    {
     "data": {
      "text/html": [
       "<div>\n",
       "<style scoped>\n",
       "    .dataframe tbody tr th:only-of-type {\n",
       "        vertical-align: middle;\n",
       "    }\n",
       "\n",
       "    .dataframe tbody tr th {\n",
       "        vertical-align: top;\n",
       "    }\n",
       "\n",
       "    .dataframe thead th {\n",
       "        text-align: right;\n",
       "    }\n",
       "</style>\n",
       "<table border=\"1\" class=\"dataframe\">\n",
       "  <thead>\n",
       "    <tr style=\"text-align: right;\">\n",
       "      <th></th>\n",
       "      <th>Date</th>\n",
       "      <th>NewConfirmed</th>\n",
       "      <th>NewRecovered</th>\n",
       "      <th>NewHospitalized</th>\n",
       "      <th>NewDeaths</th>\n",
       "      <th>Confirmed</th>\n",
       "      <th>Recovered</th>\n",
       "      <th>Hospitalized</th>\n",
       "      <th>Deaths</th>\n",
       "    </tr>\n",
       "  </thead>\n",
       "  <tbody>\n",
       "    <tr>\n",
       "      <th>0</th>\n",
       "      <td>2020-01-01</td>\n",
       "      <td>0</td>\n",
       "      <td>0</td>\n",
       "      <td>0</td>\n",
       "      <td>0</td>\n",
       "      <td>0</td>\n",
       "      <td>0</td>\n",
       "      <td>0</td>\n",
       "      <td>0</td>\n",
       "    </tr>\n",
       "    <tr>\n",
       "      <th>1</th>\n",
       "      <td>2020-01-02</td>\n",
       "      <td>0</td>\n",
       "      <td>0</td>\n",
       "      <td>0</td>\n",
       "      <td>0</td>\n",
       "      <td>0</td>\n",
       "      <td>0</td>\n",
       "      <td>0</td>\n",
       "      <td>0</td>\n",
       "    </tr>\n",
       "    <tr>\n",
       "      <th>2</th>\n",
       "      <td>2020-01-03</td>\n",
       "      <td>0</td>\n",
       "      <td>0</td>\n",
       "      <td>0</td>\n",
       "      <td>0</td>\n",
       "      <td>0</td>\n",
       "      <td>0</td>\n",
       "      <td>0</td>\n",
       "      <td>0</td>\n",
       "    </tr>\n",
       "  </tbody>\n",
       "</table>\n",
       "</div>"
      ],
      "text/plain": [
       "        Date  NewConfirmed  NewRecovered  NewHospitalized  NewDeaths  \\\n",
       "0 2020-01-01             0             0                0          0   \n",
       "1 2020-01-02             0             0                0          0   \n",
       "2 2020-01-03             0             0                0          0   \n",
       "\n",
       "   Confirmed  Recovered  Hospitalized  Deaths  \n",
       "0          0          0             0       0  \n",
       "1          0          0             0       0  \n",
       "2          0          0             0       0  "
      ]
     },
     "execution_count": 40,
     "metadata": {},
     "output_type": "execute_result"
    }
   ],
   "source": [
    "df=pd.read_json(\"covidth.json\",lines=True)\n",
    "df.head(5)"
   ]
  },
  {
   "cell_type": "code",
   "execution_count": null,
   "metadata": {},
   "outputs": [],
   "source": []
  }
 ],
 "metadata": {
  "kernelspec": {
   "display_name": "Python 3",
   "language": "python",
   "name": "python3"
  },
  "language_info": {
   "codemirror_mode": {
    "name": "ipython",
    "version": 3
   },
   "file_extension": ".py",
   "mimetype": "text/x-python",
   "name": "python",
   "nbconvert_exporter": "python",
   "pygments_lexer": "ipython3",
   "version": "3.7.7"
  }
 },
 "nbformat": 4,
 "nbformat_minor": 4
}
